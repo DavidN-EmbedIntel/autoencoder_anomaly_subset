{
 "cells": [
  {
   "cell_type": "markdown",
   "metadata": {},
   "source": [
    "## Examples of generated adversarial noise using ART and keras"
   ]
  },
  {
   "cell_type": "code",
   "execution_count": 1,
   "metadata": {},
   "outputs": [
    {
     "name": "stderr",
     "output_type": "stream",
     "text": [
      "Using TensorFlow backend.\n"
     ]
    }
   ],
   "source": [
    "import keras\n",
    "from keras.models import load_model\n",
    "from keras.datasets import mnist, fashion_mnist\n",
    "from art.classifiers import KerasClassifier\n",
    "from art.attacks.fast_gradient import FastGradientMethod\n",
    "from art.attacks.iterative_method import BasicIterativeMethod\n",
    "from art.attacks.deepfool import DeepFool\n",
    "import numpy as np"
   ]
  },
  {
   "cell_type": "markdown",
   "metadata": {},
   "source": [
    "### Load data and model"
   ]
  },
  {
   "cell_type": "code",
   "execution_count": 2,
   "metadata": {},
   "outputs": [
    {
     "name": "stdout",
     "output_type": "stream",
     "text": [
      "Downloading data from https://s3.amazonaws.com/img-datasets/mnist.npz\n",
      "11493376/11490434 [==============================] - 5s 0us/step\n"
     ]
    }
   ],
   "source": [
    "# uncomment for loading fashion mnist\n",
    "#(x_train, y_train), (x_test, y_test) = fashion_mnist.load_data() \n",
    "(x_train, y_train), (x_test, y_test) = mnist.load_data()\n",
    "x_train = x_train.astype('float32')\n",
    "x_test = x_test.astype('float32')\n",
    "x_train /= 255\n",
    "x_test /= 255\n",
    "x_test = np.expand_dims(x_test, axis=3)\n",
    "# convert class vectors to binary class matrices\n",
    "class_9 = np.where(y_test == 9)\n",
    "y_train = keras.utils.to_categorical(y_train, 10)\n",
    "y_test = keras.utils.to_categorical(y_test, 10)"
   ]
  },
  {
   "cell_type": "code",
   "execution_count": 42,
   "metadata": {},
   "outputs": [],
   "source": [
    "# note that under models you can find for both datasets\n",
    "classifier_model = load_model(\"models/mnist_cnn_original.h5\")\n",
    "classifier = KerasClassifier(classifier_model)"
   ]
  },
  {
   "cell_type": "code",
   "execution_count": 8,
   "metadata": {},
   "outputs": [
    {
     "name": "stdout",
     "output_type": "stream",
     "text": [
      "_________________________________________________________________\n",
      "Layer (type)                 Output Shape              Param #   \n",
      "=================================================================\n",
      "conv2d_1 (Conv2D)            (None, 26, 26, 32)        320       \n",
      "_________________________________________________________________\n",
      "max_pooling2d_1 (MaxPooling2 (None, 13, 13, 32)        0         \n",
      "_________________________________________________________________\n",
      "conv2d_2 (Conv2D)            (None, 11, 11, 64)        18496     \n",
      "_________________________________________________________________\n",
      "max_pooling2d_2 (MaxPooling2 (None, 5, 5, 64)          0         \n",
      "_________________________________________________________________\n",
      "flatten_1 (Flatten)          (None, 1600)              0         \n",
      "_________________________________________________________________\n",
      "dense_1 (Dense)              (None, 128)               204928    \n",
      "_________________________________________________________________\n",
      "dense_2 (Dense)              (None, 10)                1290      \n",
      "=================================================================\n",
      "Total params: 225,034\n",
      "Trainable params: 225,034\n",
      "Non-trainable params: 0\n",
      "_________________________________________________________________\n"
     ]
    }
   ],
   "source": [
    "classifier_model.summary()"
   ]
  },
  {
   "cell_type": "markdown",
   "metadata": {},
   "source": [
    "### Generate Adversarial samples for MNIST"
   ]
  },
  {
   "cell_type": "code",
   "execution_count": 38,
   "metadata": {},
   "outputs": [],
   "source": [
    "attacker_fgm = FastGradientMethod(classifier, eps=0.01)\n",
    "x_test_adv_fg = attacker_fgm.generate(x_test[8500:])"
   ]
  },
  {
   "cell_type": "code",
   "execution_count": 52,
   "metadata": {},
   "outputs": [
    {
     "data": {
      "text/plain": [
       "(1500, 28, 28, 1)"
      ]
     },
     "execution_count": 52,
     "metadata": {},
     "output_type": "execute_result"
    }
   ],
   "source": [
    "x_test[8500:].shape"
   ]
  },
  {
   "cell_type": "code",
   "execution_count": 15,
   "metadata": {},
   "outputs": [],
   "source": [
    "attacker_df = DeepFool(classifier)\n",
    "x_test_adv_df = attacker_df.generate(x_test[8500:]) # np.full((1500, 1), 0))"
   ]
  },
  {
   "cell_type": "code",
   "execution_count": 4,
   "metadata": {},
   "outputs": [
    {
     "ename": "InvalidArgumentError",
     "evalue": "Expected size[0] in [0, 0], but got 1\n\t [[{{node softmax_cross_entropy_with_logits_sg/Slice_1}} = Slice[Index=DT_INT32, T=DT_INT32, _device=\"/job:localhost/replica:0/task:0/device:CPU:0\"](softmax_cross_entropy_with_logits_sg/Shape_2, softmax_cross_entropy_with_logits_sg/Slice_2/size, softmax_cross_entropy_with_logits_sg/Slice_2/size)]]",
     "output_type": "error",
     "traceback": [
      "\u001b[0;31m---------------------------------------------------------------------------\u001b[0m",
      "\u001b[0;31mInvalidArgumentError\u001b[0m                      Traceback (most recent call last)",
      "\u001b[0;32m<ipython-input-4-3645157394fe>\u001b[0m in \u001b[0;36m<module>\u001b[0;34m\u001b[0m\n\u001b[1;32m      1\u001b[0m \u001b[0mattacker_bim\u001b[0m \u001b[0;34m=\u001b[0m \u001b[0mBasicIterativeMethod\u001b[0m\u001b[0;34m(\u001b[0m\u001b[0mclassifier\u001b[0m\u001b[0;34m,\u001b[0m \u001b[0meps\u001b[0m\u001b[0;34m=\u001b[0m\u001b[0;36m0.01\u001b[0m\u001b[0;34m,\u001b[0m \u001b[0mmax_iter\u001b[0m\u001b[0;34m=\u001b[0m\u001b[0;36m1000\u001b[0m\u001b[0;34m,\u001b[0m \u001b[0meps_step\u001b[0m\u001b[0;34m=\u001b[0m\u001b[0;36m0.002\u001b[0m\u001b[0;34m)\u001b[0m\u001b[0;34m\u001b[0m\u001b[0m\n\u001b[0;32m----> 2\u001b[0;31m \u001b[0mx_test_adv_bim\u001b[0m \u001b[0;34m=\u001b[0m \u001b[0mattacker_bim\u001b[0m\u001b[0;34m.\u001b[0m\u001b[0mgenerate\u001b[0m\u001b[0;34m(\u001b[0m\u001b[0mx_test\u001b[0m\u001b[0;34m[\u001b[0m\u001b[0;36m8500\u001b[0m\u001b[0;34m:\u001b[0m\u001b[0;34m]\u001b[0m\u001b[0;34m,\u001b[0m \u001b[0my\u001b[0m\u001b[0;34m=\u001b[0m\u001b[0;34m[\u001b[0m\u001b[0;36m0\u001b[0m\u001b[0;34m]\u001b[0m\u001b[0;34m)\u001b[0m \u001b[0;31m# np.full((1500, 1), 0))\u001b[0m\u001b[0;34m\u001b[0m\u001b[0m\n\u001b[0m",
      "\u001b[0;32m~/Code/subset_vis_playground/.env/subset/lib/python3.5/site-packages/art/attacks/projected_gradient_descent.py\u001b[0m in \u001b[0;36mgenerate\u001b[0;34m(self, x, y, **kwargs)\u001b[0m\n\u001b[1;32m    112\u001b[0m             \u001b[0;32mfor\u001b[0m \u001b[0mi_max_iter\u001b[0m \u001b[0;32min\u001b[0m \u001b[0mrange\u001b[0m\u001b[0;34m(\u001b[0m\u001b[0mself\u001b[0m\u001b[0;34m.\u001b[0m\u001b[0mmax_iter\u001b[0m\u001b[0;34m)\u001b[0m\u001b[0;34m:\u001b[0m\u001b[0;34m\u001b[0m\u001b[0m\n\u001b[1;32m    113\u001b[0m                 adv_x = self._compute(adv_x, x, targets, self.eps, self.eps_step, self._project,\n\u001b[0;32m--> 114\u001b[0;31m                                       self.num_random_init > 0 and i_max_iter == 0)\n\u001b[0m\u001b[1;32m    115\u001b[0m \u001b[0;34m\u001b[0m\u001b[0m\n\u001b[1;32m    116\u001b[0m             \u001b[0;32mif\u001b[0m \u001b[0mself\u001b[0m\u001b[0;34m.\u001b[0m\u001b[0mnum_random_init\u001b[0m \u001b[0;34m>\u001b[0m \u001b[0;36m1\u001b[0m\u001b[0;34m:\u001b[0m\u001b[0;34m\u001b[0m\u001b[0m\n",
      "\u001b[0;32m~/Code/subset_vis_playground/.env/subset/lib/python3.5/site-packages/art/attacks/fast_gradient.py\u001b[0m in \u001b[0;36m_compute\u001b[0;34m(self, x, x_init, y, eps, eps_step, project, random_init)\u001b[0m\n\u001b[1;32m    266\u001b[0m \u001b[0;34m\u001b[0m\u001b[0m\n\u001b[1;32m    267\u001b[0m             \u001b[0;31m# Get perturbation\u001b[0m\u001b[0;34m\u001b[0m\u001b[0;34m\u001b[0m\u001b[0m\n\u001b[0;32m--> 268\u001b[0;31m             \u001b[0mperturbation\u001b[0m \u001b[0;34m=\u001b[0m \u001b[0mself\u001b[0m\u001b[0;34m.\u001b[0m\u001b[0m_compute_perturbation\u001b[0m\u001b[0;34m(\u001b[0m\u001b[0mbatch\u001b[0m\u001b[0;34m,\u001b[0m \u001b[0mbatch_labels\u001b[0m\u001b[0;34m)\u001b[0m\u001b[0;34m\u001b[0m\u001b[0m\n\u001b[0m\u001b[1;32m    269\u001b[0m \u001b[0;34m\u001b[0m\u001b[0m\n\u001b[1;32m    270\u001b[0m             \u001b[0;31m# Apply perturbation and clip\u001b[0m\u001b[0;34m\u001b[0m\u001b[0;34m\u001b[0m\u001b[0m\n",
      "\u001b[0;32m~/Code/subset_vis_playground/.env/subset/lib/python3.5/site-packages/art/attacks/fast_gradient.py\u001b[0m in \u001b[0;36m_compute_perturbation\u001b[0;34m(self, batch, batch_labels)\u001b[0m\n\u001b[1;32m    223\u001b[0m \u001b[0;34m\u001b[0m\u001b[0m\n\u001b[1;32m    224\u001b[0m         \u001b[0;31m# Get gradient wrt loss; invert it if attack is targeted\u001b[0m\u001b[0;34m\u001b[0m\u001b[0;34m\u001b[0m\u001b[0m\n\u001b[0;32m--> 225\u001b[0;31m         \u001b[0mgrad\u001b[0m \u001b[0;34m=\u001b[0m \u001b[0mself\u001b[0m\u001b[0;34m.\u001b[0m\u001b[0mclassifier\u001b[0m\u001b[0;34m.\u001b[0m\u001b[0mloss_gradient\u001b[0m\u001b[0;34m(\u001b[0m\u001b[0mbatch\u001b[0m\u001b[0;34m,\u001b[0m \u001b[0mbatch_labels\u001b[0m\u001b[0;34m)\u001b[0m \u001b[0;34m*\u001b[0m \u001b[0;34m(\u001b[0m\u001b[0;36m1\u001b[0m \u001b[0;34m-\u001b[0m \u001b[0;36m2\u001b[0m \u001b[0;34m*\u001b[0m \u001b[0mint\u001b[0m\u001b[0;34m(\u001b[0m\u001b[0mself\u001b[0m\u001b[0;34m.\u001b[0m\u001b[0mtargeted\u001b[0m\u001b[0;34m)\u001b[0m\u001b[0;34m)\u001b[0m\u001b[0;34m\u001b[0m\u001b[0m\n\u001b[0m\u001b[1;32m    226\u001b[0m \u001b[0;34m\u001b[0m\u001b[0m\n\u001b[1;32m    227\u001b[0m         \u001b[0;31m# Apply norm bound\u001b[0m\u001b[0;34m\u001b[0m\u001b[0;34m\u001b[0m\u001b[0m\n",
      "\u001b[0;32m~/Code/subset_vis_playground/.env/subset/lib/python3.5/site-packages/art/classifiers/keras.py\u001b[0m in \u001b[0;36mloss_gradient\u001b[0;34m(self, x, y, **kwargs)\u001b[0m\n\u001b[1;32m    186\u001b[0m \u001b[0;34m\u001b[0m\u001b[0m\n\u001b[1;32m    187\u001b[0m         \u001b[0;31m# Compute gradients\u001b[0m\u001b[0;34m\u001b[0m\u001b[0;34m\u001b[0m\u001b[0m\n\u001b[0;32m--> 188\u001b[0;31m         \u001b[0mgrads\u001b[0m \u001b[0;34m=\u001b[0m \u001b[0mself\u001b[0m\u001b[0;34m.\u001b[0m\u001b[0m_loss_grads\u001b[0m\u001b[0;34m(\u001b[0m\u001b[0;34m[\u001b[0m\u001b[0mx_preprocessed\u001b[0m\u001b[0;34m,\u001b[0m \u001b[0my_preprocessed\u001b[0m\u001b[0;34m]\u001b[0m\u001b[0;34m)\u001b[0m\u001b[0;34m[\u001b[0m\u001b[0;36m0\u001b[0m\u001b[0;34m]\u001b[0m\u001b[0;34m\u001b[0m\u001b[0m\n\u001b[0m\u001b[1;32m    189\u001b[0m         \u001b[0mgrads\u001b[0m \u001b[0;34m=\u001b[0m \u001b[0mself\u001b[0m\u001b[0;34m.\u001b[0m\u001b[0m_apply_preprocessing_gradient\u001b[0m\u001b[0;34m(\u001b[0m\u001b[0mx\u001b[0m\u001b[0;34m,\u001b[0m \u001b[0mgrads\u001b[0m\u001b[0;34m)\u001b[0m\u001b[0;34m\u001b[0m\u001b[0m\n\u001b[1;32m    190\u001b[0m         \u001b[0;32massert\u001b[0m \u001b[0mgrads\u001b[0m\u001b[0;34m.\u001b[0m\u001b[0mshape\u001b[0m \u001b[0;34m==\u001b[0m \u001b[0mx_preprocessed\u001b[0m\u001b[0;34m.\u001b[0m\u001b[0mshape\u001b[0m\u001b[0;34m\u001b[0m\u001b[0m\n",
      "\u001b[0;32m~/Code/subset_vis_playground/.env/subset/lib/python3.5/site-packages/keras/backend/tensorflow_backend.py\u001b[0m in \u001b[0;36m__call__\u001b[0;34m(self, inputs)\u001b[0m\n\u001b[1;32m   2713\u001b[0m                 \u001b[0;32mreturn\u001b[0m \u001b[0mself\u001b[0m\u001b[0;34m.\u001b[0m\u001b[0m_legacy_call\u001b[0m\u001b[0;34m(\u001b[0m\u001b[0minputs\u001b[0m\u001b[0;34m)\u001b[0m\u001b[0;34m\u001b[0m\u001b[0m\n\u001b[1;32m   2714\u001b[0m \u001b[0;34m\u001b[0m\u001b[0m\n\u001b[0;32m-> 2715\u001b[0;31m             \u001b[0;32mreturn\u001b[0m \u001b[0mself\u001b[0m\u001b[0;34m.\u001b[0m\u001b[0m_call\u001b[0m\u001b[0;34m(\u001b[0m\u001b[0minputs\u001b[0m\u001b[0;34m)\u001b[0m\u001b[0;34m\u001b[0m\u001b[0m\n\u001b[0m\u001b[1;32m   2716\u001b[0m         \u001b[0;32melse\u001b[0m\u001b[0;34m:\u001b[0m\u001b[0;34m\u001b[0m\u001b[0m\n\u001b[1;32m   2717\u001b[0m             \u001b[0;32mif\u001b[0m \u001b[0mpy_any\u001b[0m\u001b[0;34m(\u001b[0m\u001b[0mis_tensor\u001b[0m\u001b[0;34m(\u001b[0m\u001b[0mx\u001b[0m\u001b[0;34m)\u001b[0m \u001b[0;32mfor\u001b[0m \u001b[0mx\u001b[0m \u001b[0;32min\u001b[0m \u001b[0minputs\u001b[0m\u001b[0;34m)\u001b[0m\u001b[0;34m:\u001b[0m\u001b[0;34m\u001b[0m\u001b[0m\n",
      "\u001b[0;32m~/Code/subset_vis_playground/.env/subset/lib/python3.5/site-packages/keras/backend/tensorflow_backend.py\u001b[0m in \u001b[0;36m_call\u001b[0;34m(self, inputs)\u001b[0m\n\u001b[1;32m   2673\u001b[0m             \u001b[0mfetched\u001b[0m \u001b[0;34m=\u001b[0m \u001b[0mself\u001b[0m\u001b[0;34m.\u001b[0m\u001b[0m_callable_fn\u001b[0m\u001b[0;34m(\u001b[0m\u001b[0;34m*\u001b[0m\u001b[0marray_vals\u001b[0m\u001b[0;34m,\u001b[0m \u001b[0mrun_metadata\u001b[0m\u001b[0;34m=\u001b[0m\u001b[0mself\u001b[0m\u001b[0;34m.\u001b[0m\u001b[0mrun_metadata\u001b[0m\u001b[0;34m)\u001b[0m\u001b[0;34m\u001b[0m\u001b[0m\n\u001b[1;32m   2674\u001b[0m         \u001b[0;32melse\u001b[0m\u001b[0;34m:\u001b[0m\u001b[0;34m\u001b[0m\u001b[0m\n\u001b[0;32m-> 2675\u001b[0;31m             \u001b[0mfetched\u001b[0m \u001b[0;34m=\u001b[0m \u001b[0mself\u001b[0m\u001b[0;34m.\u001b[0m\u001b[0m_callable_fn\u001b[0m\u001b[0;34m(\u001b[0m\u001b[0;34m*\u001b[0m\u001b[0marray_vals\u001b[0m\u001b[0;34m)\u001b[0m\u001b[0;34m\u001b[0m\u001b[0m\n\u001b[0m\u001b[1;32m   2676\u001b[0m         \u001b[0;32mreturn\u001b[0m \u001b[0mfetched\u001b[0m\u001b[0;34m[\u001b[0m\u001b[0;34m:\u001b[0m\u001b[0mlen\u001b[0m\u001b[0;34m(\u001b[0m\u001b[0mself\u001b[0m\u001b[0;34m.\u001b[0m\u001b[0moutputs\u001b[0m\u001b[0;34m)\u001b[0m\u001b[0;34m]\u001b[0m\u001b[0;34m\u001b[0m\u001b[0m\n\u001b[1;32m   2677\u001b[0m \u001b[0;34m\u001b[0m\u001b[0m\n",
      "\u001b[0;32m~/Code/subset_vis_playground/.env/subset/lib/python3.5/site-packages/tensorflow/python/client/session.py\u001b[0m in \u001b[0;36m__call__\u001b[0;34m(self, *args, **kwargs)\u001b[0m\n\u001b[1;32m   1397\u001b[0m           ret = tf_session.TF_SessionRunCallable(\n\u001b[1;32m   1398\u001b[0m               \u001b[0mself\u001b[0m\u001b[0;34m.\u001b[0m\u001b[0m_session\u001b[0m\u001b[0;34m.\u001b[0m\u001b[0m_session\u001b[0m\u001b[0;34m,\u001b[0m \u001b[0mself\u001b[0m\u001b[0;34m.\u001b[0m\u001b[0m_handle\u001b[0m\u001b[0;34m,\u001b[0m \u001b[0margs\u001b[0m\u001b[0;34m,\u001b[0m \u001b[0mstatus\u001b[0m\u001b[0;34m,\u001b[0m\u001b[0;34m\u001b[0m\u001b[0m\n\u001b[0;32m-> 1399\u001b[0;31m               run_metadata_ptr)\n\u001b[0m\u001b[1;32m   1400\u001b[0m         \u001b[0;32mif\u001b[0m \u001b[0mrun_metadata\u001b[0m\u001b[0;34m:\u001b[0m\u001b[0;34m\u001b[0m\u001b[0m\n\u001b[1;32m   1401\u001b[0m           \u001b[0mproto_data\u001b[0m \u001b[0;34m=\u001b[0m \u001b[0mtf_session\u001b[0m\u001b[0;34m.\u001b[0m\u001b[0mTF_GetBuffer\u001b[0m\u001b[0;34m(\u001b[0m\u001b[0mrun_metadata_ptr\u001b[0m\u001b[0;34m)\u001b[0m\u001b[0;34m\u001b[0m\u001b[0m\n",
      "\u001b[0;32m~/Code/subset_vis_playground/.env/subset/lib/python3.5/site-packages/tensorflow/python/framework/errors_impl.py\u001b[0m in \u001b[0;36m__exit__\u001b[0;34m(self, type_arg, value_arg, traceback_arg)\u001b[0m\n\u001b[1;32m    524\u001b[0m             \u001b[0;32mNone\u001b[0m\u001b[0;34m,\u001b[0m \u001b[0;32mNone\u001b[0m\u001b[0;34m,\u001b[0m\u001b[0;34m\u001b[0m\u001b[0m\n\u001b[1;32m    525\u001b[0m             \u001b[0mcompat\u001b[0m\u001b[0;34m.\u001b[0m\u001b[0mas_text\u001b[0m\u001b[0;34m(\u001b[0m\u001b[0mc_api\u001b[0m\u001b[0;34m.\u001b[0m\u001b[0mTF_Message\u001b[0m\u001b[0;34m(\u001b[0m\u001b[0mself\u001b[0m\u001b[0;34m.\u001b[0m\u001b[0mstatus\u001b[0m\u001b[0;34m.\u001b[0m\u001b[0mstatus\u001b[0m\u001b[0;34m)\u001b[0m\u001b[0;34m)\u001b[0m\u001b[0;34m,\u001b[0m\u001b[0;34m\u001b[0m\u001b[0m\n\u001b[0;32m--> 526\u001b[0;31m             c_api.TF_GetCode(self.status.status))\n\u001b[0m\u001b[1;32m    527\u001b[0m     \u001b[0;31m# Delete the underlying status object from memory otherwise it stays alive\u001b[0m\u001b[0;34m\u001b[0m\u001b[0;34m\u001b[0m\u001b[0m\n\u001b[1;32m    528\u001b[0m     \u001b[0;31m# as there is a reference to status from this from the traceback due to\u001b[0m\u001b[0;34m\u001b[0m\u001b[0;34m\u001b[0m\u001b[0m\n",
      "\u001b[0;31mInvalidArgumentError\u001b[0m: Expected size[0] in [0, 0], but got 1\n\t [[{{node softmax_cross_entropy_with_logits_sg/Slice_1}} = Slice[Index=DT_INT32, T=DT_INT32, _device=\"/job:localhost/replica:0/task:0/device:CPU:0\"](softmax_cross_entropy_with_logits_sg/Shape_2, softmax_cross_entropy_with_logits_sg/Slice_2/size, softmax_cross_entropy_with_logits_sg/Slice_2/size)]]"
     ]
    }
   ],
   "source": [
    "attacker_bim = BasicIterativeMethod(classifier, eps=0.01, max_iter=1000, eps_step=0.002)\n",
    "x_test_adv_bim = attacker_bim.generate(x_test[8500:], y=[0]) # np.full((1500, 1), 0))"
   ]
  },
  {
   "cell_type": "code",
   "execution_count": 48,
   "metadata": {},
   "outputs": [
    {
     "ename": "ValueError",
     "evalue": "Target labels `y` need to be provided for a targeted attack.",
     "output_type": "error",
     "traceback": [
      "\u001b[0;31m---------------------------------------------------------------------------\u001b[0m",
      "\u001b[0;31mValueError\u001b[0m                                Traceback (most recent call last)",
      "\u001b[0;32m<ipython-input-48-cdcc6edf66b1>\u001b[0m in \u001b[0;36m<module>\u001b[0;34m\u001b[0m\n\u001b[1;32m      1\u001b[0m \u001b[0mattacker_bim\u001b[0m \u001b[0;34m=\u001b[0m \u001b[0mBasicIterativeMethod\u001b[0m\u001b[0;34m(\u001b[0m\u001b[0mclassifier\u001b[0m\u001b[0;34m,\u001b[0m \u001b[0meps\u001b[0m\u001b[0;34m=\u001b[0m\u001b[0;36m0.01\u001b[0m\u001b[0;34m,\u001b[0m \u001b[0mmax_iter\u001b[0m\u001b[0;34m=\u001b[0m\u001b[0;36m1000\u001b[0m\u001b[0;34m,\u001b[0m \u001b[0meps_step\u001b[0m\u001b[0;34m=\u001b[0m\u001b[0;36m0.002\u001b[0m\u001b[0;34m,\u001b[0m \u001b[0mtargeted\u001b[0m\u001b[0;34m=\u001b[0m\u001b[0;32mTrue\u001b[0m\u001b[0;34m)\u001b[0m\u001b[0;34m\u001b[0m\u001b[0m\n\u001b[0;32m----> 2\u001b[0;31m \u001b[0mx_test_adv_bim\u001b[0m \u001b[0;34m=\u001b[0m \u001b[0mattacker_bim\u001b[0m\u001b[0;34m.\u001b[0m\u001b[0mgenerate\u001b[0m\u001b[0;34m(\u001b[0m\u001b[0mx_test\u001b[0m\u001b[0;34m[\u001b[0m\u001b[0;36m8500\u001b[0m\u001b[0;34m:\u001b[0m\u001b[0;34m]\u001b[0m\u001b[0;34m)\u001b[0m\u001b[0;34m\u001b[0m\u001b[0m\n\u001b[0m",
      "\u001b[0;32m~/Code/subset_vis_playground/.env/subset/lib/python3.5/site-packages/art/attacks/projected_gradient_descent.py\u001b[0m in \u001b[0;36mgenerate\u001b[0;34m(self, x, y, **kwargs)\u001b[0m\n\u001b[1;32m     97\u001b[0m             \u001b[0;31m# Throw error if attack is targeted, but no targets are provided\u001b[0m\u001b[0;34m\u001b[0m\u001b[0;34m\u001b[0m\u001b[0m\n\u001b[1;32m     98\u001b[0m             \u001b[0;32mif\u001b[0m \u001b[0mself\u001b[0m\u001b[0;34m.\u001b[0m\u001b[0mtargeted\u001b[0m\u001b[0;34m:\u001b[0m\u001b[0;34m\u001b[0m\u001b[0m\n\u001b[0;32m---> 99\u001b[0;31m                 \u001b[0;32mraise\u001b[0m \u001b[0mValueError\u001b[0m\u001b[0;34m(\u001b[0m\u001b[0;34m'Target labels `y` need to be provided for a targeted attack.'\u001b[0m\u001b[0;34m)\u001b[0m\u001b[0;34m\u001b[0m\u001b[0m\n\u001b[0m\u001b[1;32m    100\u001b[0m \u001b[0;34m\u001b[0m\u001b[0m\n\u001b[1;32m    101\u001b[0m             \u001b[0;31m# Use model predictions as correct outputs\u001b[0m\u001b[0;34m\u001b[0m\u001b[0;34m\u001b[0m\u001b[0m\n",
      "\u001b[0;31mValueError\u001b[0m: Target labels `y` need to be provided for a targeted attack."
     ]
    }
   ],
   "source": [
    "attacker_bim = BasicIterativeMethod(classifier, eps=0.01, max_iter=1000, eps_step=0.002, targeted=True)\n",
    "x_test_adv_bim = attacker_bim.generate(x_test[8500:], y=)"
   ]
  },
  {
   "cell_type": "code",
   "execution_count": 44,
   "metadata": {},
   "outputs": [
    {
     "name": "stdout",
     "output_type": "stream",
     "text": [
      "10000/10000 [==============================] - 1s 125us/step\n",
      "Test loss: 0.07132315555133055\n",
      "Test accuracy: 0.9923\n"
     ]
    }
   ],
   "source": [
    "scores = classifier_model.evaluate(x_test, y_test, verbose=1)\n",
    "print('Test loss:', scores[0])\n",
    "print('Test accuracy:', scores[1])"
   ]
  },
  {
   "cell_type": "code",
   "execution_count": 44,
   "metadata": {},
   "outputs": [],
   "source": [
    "attacker_carlini = CarliniL2Method(classifier, confidence=0.0, targeted=False)\n",
    "x_test_adv_cw = attacker_carlini.generate(x_test[8500:])"
   ]
  },
  {
   "cell_type": "markdown",
   "metadata": {},
   "source": [
    "### Visualize adversarial samples"
   ]
  },
  {
   "cell_type": "code",
   "execution_count": 6,
   "metadata": {},
   "outputs": [],
   "source": [
    "%matplotlib inline\n",
    "import matplotlib.pyplot as plt\n",
    "import numpy as np"
   ]
  },
  {
   "cell_type": "code",
   "execution_count": 16,
   "metadata": {},
   "outputs": [
    {
     "data": {
      "image/png": "[encoded data removed]",
      "text/plain": [
       "<Figure size 144x144 with 1 Axes>"
      ]
     },
     "metadata": {
      "needs_background": "light"
     },
     "output_type": "display_data"
    },
    {
     "data": {
      "image/png": "[encoded data removed]",
      "text/plain": [
       "<Figure size 432x288 with 1 Axes>"
      ]
     },
     "metadata": {
      "needs_background": "light"
     },
     "output_type": "display_data"
    },
    {
     "data": {
      "image/png": "[encoded data removed]",
      "text/plain": [
       "<Figure size 432x288 with 1 Axes>"
      ]
     },
     "metadata": {
      "needs_background": "light"
     },
     "output_type": "display_data"
    },
    {
     "data": {
      "image/png": "[encoded data removed]",
      "text/plain": [
       "<Figure size 432x288 with 1 Axes>"
      ]
     },
     "metadata": {
      "needs_background": "light"
     },
     "output_type": "display_data"
    },
    {
     "data": {
      "image/png": "[encoded data removed]",
      "text/plain": [
       "<Figure size 432x288 with 1 Axes>"
      ]
     },
     "metadata": {
      "needs_background": "light"
     },
     "output_type": "display_data"
    },
    {
     "data": {
      "image/png": "[encoded data removed]",
      "text/plain": [
       "<Figure size 432x288 with 1 Axes>"
      ]
     },
     "metadata": {
      "needs_background": "light"
     },
     "output_type": "display_data"
    },
    {
     "data": {
      "image/png": "[encoded data removed]",
      "text/plain": [
       "<Figure size 432x288 with 1 Axes>"
      ]
     },
     "metadata": {
      "needs_background": "light"
     },
     "output_type": "display_data"
    },
    {
     "data": {
      "image/png": "[encoded data removed]",
      "text/plain": [
       "<Figure size 432x288 with 1 Axes>"
      ]
     },
     "metadata": {
      "needs_background": "light"
     },
     "output_type": "display_data"
    },
    {
     "data": {
      "image/png": "[encoded data removed]",
      "text/plain": [
       "<Figure size 432x288 with 1 Axes>"
      ]
     },
     "metadata": {
      "needs_background": "light"
     },
     "output_type": "display_data"
    },
    {
     "data": {
      "image/png": "[encoded data removed]",
      "text/plain": [
       "<Figure size 432x288 with 1 Axes>"
      ]
     },
     "metadata": {
      "needs_background": "light"
     },
     "output_type": "display_data"
    }
   ],
   "source": [
    "%matplotlib inline\n",
    "import matplotlib.pyplot as plt\n",
    "import numpy as np\n",
    "\n",
    "plt.figure(figsize=(2, 2))\n",
    "for i in range(10):\n",
    "    plt.imshow(x_test_adv_df[i].reshape(28, 28), cmap='gray')\n",
    "    plt.show()\n"
   ]
  },
  {
   "cell_type": "markdown",
   "metadata": {},
   "source": [
    "#### BIM"
   ]
  },
  {
   "cell_type": "code",
   "execution_count": 49,
   "metadata": {},
   "outputs": [],
   "source": [
    "with open('../ICLR/results/mnist_cleanbottleconv2d_4.out', 'r') as f:\n",
    "    lines = f.readlines()\n",
    "    score, precision, recall, len_image_sub, len_node_sub, optimal_alpha, node_subs, image_subs = lines[0].split(' ')"
   ]
  },
  {
   "cell_type": "code",
   "execution_count": 50,
   "metadata": {},
   "outputs": [
    {
     "data": {
      "text/plain": [
       "'0.00014283673760891302'"
      ]
     },
     "execution_count": 50,
     "metadata": {},
     "output_type": "execute_result"
    }
   ],
   "source": [
    "optimal_alpha"
   ]
  },
  {
   "cell_type": "code",
   "execution_count": 32,
   "metadata": {},
   "outputs": [
    {
     "data": {
      "text/plain": [
       "0.00014283673760891302"
      ]
     },
     "execution_count": 32,
     "metadata": {},
     "output_type": "execute_result"
    }
   ],
   "source": [
    "1./7001"
   ]
  },
  {
   "cell_type": "code",
   "execution_count": 43,
   "metadata": {},
   "outputs": [
    {
     "data": {
      "text/plain": [
       "725"
      ]
     },
     "execution_count": 43,
     "metadata": {},
     "output_type": "execute_result"
    }
   ],
   "source": [
    "images_ix = image_subs.split(',')\n",
    "len([int(im) for im in images_ix])"
   ]
  },
  {
   "cell_type": "code",
   "execution_count": 46,
   "metadata": {},
   "outputs": [
    {
     "data": {
      "text/plain": [
       "['1208',\n",
       " '192',\n",
       " '1098',\n",
       " '1178',\n",
       " '871',\n",
       " '457',\n",
       " '1194',\n",
       " '878',\n",
       " '1388',\n",
       " '486',\n",
       " '866',\n",
       " '868',\n",
       " '1276',\n",
       " '505',\n",
       " '245',\n",
       " '465',\n",
       " '929',\n",
       " '449',\n",
       " '814',\n",
       " '1114',\n",
       " '237',\n",
       " '1424',\n",
       " '266',\n",
       " '452',\n",
       " '926',\n",
       " '1182',\n",
       " '7',\n",
       " '12',\n",
       " '1023',\n",
       " '855',\n",
       " '420',\n",
       " '1249',\n",
       " '1389',\n",
       " '1255',\n",
       " '1228',\n",
       " '1016',\n",
       " '1221',\n",
       " '1015',\n",
       " '446',\n",
       " '1199',\n",
       " '1139',\n",
       " '1056',\n",
       " '1335',\n",
       " '469',\n",
       " '1425',\n",
       " '1280',\n",
       " '882',\n",
       " '1157',\n",
       " '919',\n",
       " '206',\n",
       " '593',\n",
       " '988',\n",
       " '687',\n",
       " '798',\n",
       " '1359',\n",
       " '872',\n",
       " '1116',\n",
       " '234',\n",
       " '846',\n",
       " '194',\n",
       " '259',\n",
       " '1476',\n",
       " '184',\n",
       " '953',\n",
       " '845',\n",
       " '902',\n",
       " '491',\n",
       " '1192',\n",
       " '603',\n",
       " '261',\n",
       " '1414',\n",
       " '1487',\n",
       " '941',\n",
       " '1251',\n",
       " '1330',\n",
       " '1394',\n",
       " '1197',\n",
       " '1212',\n",
       " '999',\n",
       " '231',\n",
       " '213',\n",
       " '874',\n",
       " '752',\n",
       " '777',\n",
       " '1172',\n",
       " '413',\n",
       " '1295',\n",
       " '913',\n",
       " '1225',\n",
       " '524',\n",
       " '1338',\n",
       " '971',\n",
       " '1163',\n",
       " '251',\n",
       " '789',\n",
       " '1143',\n",
       " '887',\n",
       " '933',\n",
       " '485',\n",
       " '433',\n",
       " '1365',\n",
       " '448',\n",
       " '1162',\n",
       " '805',\n",
       " '1329',\n",
       " '873',\n",
       " '13',\n",
       " '1264',\n",
       " '221',\n",
       " '1117',\n",
       " '987',\n",
       " '255',\n",
       " '430',\n",
       " '1111',\n",
       " '1496',\n",
       " '923',\n",
       " '1351',\n",
       " '1158',\n",
       " '412',\n",
       " '208',\n",
       " '901',\n",
       " '1201',\n",
       " '889',\n",
       " '1038',\n",
       " '528',\n",
       " '1180',\n",
       " '225',\n",
       " '218',\n",
       " '875',\n",
       " '1156',\n",
       " '1055',\n",
       " '883',\n",
       " '779',\n",
       " '1204',\n",
       " '1415',\n",
       " '1152',\n",
       " '440',\n",
       " '1217',\n",
       " '1343',\n",
       " '518',\n",
       " '207',\n",
       " '862',\n",
       " '1067',\n",
       " '566',\n",
       " '534',\n",
       " '205',\n",
       " '1137',\n",
       " '178',\n",
       " '1160',\n",
       " '1238',\n",
       " '265',\n",
       " '1029',\n",
       " '577',\n",
       " '198',\n",
       " '1057',\n",
       " '472',\n",
       " '50',\n",
       " '782',\n",
       " '609',\n",
       " '1183',\n",
       " '958',\n",
       " '545',\n",
       " '1125',\n",
       " '898',\n",
       " '514',\n",
       " '1142',\n",
       " '1223',\n",
       " '202',\n",
       " '193',\n",
       " '965',\n",
       " '244',\n",
       " '249',\n",
       " '1241',\n",
       " '715',\n",
       " '1007',\n",
       " '153',\n",
       " '36',\n",
       " '371',\n",
       " '478',\n",
       " '1141',\n",
       " '1214',\n",
       " '1145',\n",
       " '211',\n",
       " '1216',\n",
       " '1278',\n",
       " '879',\n",
       " '187',\n",
       " '1213',\n",
       " '967',\n",
       " '526',\n",
       " '1473',\n",
       " '693',\n",
       " '1273',\n",
       " '572',\n",
       " '1236',\n",
       " '1232',\n",
       " '378',\n",
       " '1012',\n",
       " '870',\n",
       " '530',\n",
       " '406',\n",
       " '516',\n",
       " '488',\n",
       " '321',\n",
       " '749',\n",
       " '751',\n",
       " '86',\n",
       " '850',\n",
       " '762',\n",
       " '772',\n",
       " '1050',\n",
       " '915',\n",
       " '168',\n",
       " '410',\n",
       " '1123',\n",
       " '537',\n",
       " '1322',\n",
       " '1342',\n",
       " '724',\n",
       " '429',\n",
       " '1242',\n",
       " '1423',\n",
       " '810',\n",
       " '1179',\n",
       " '531',\n",
       " '745',\n",
       " '289',\n",
       " '40',\n",
       " '1387',\n",
       " '1186',\n",
       " '849',\n",
       " '1200',\n",
       " '521',\n",
       " '1373',\n",
       " '494',\n",
       " '1481',\n",
       " '1266',\n",
       " '1147',\n",
       " '1224',\n",
       " '1140',\n",
       " '989',\n",
       " '564',\n",
       " '1377',\n",
       " '263',\n",
       " '1085',\n",
       " '421',\n",
       " '853',\n",
       " '729',\n",
       " '838',\n",
       " '1037',\n",
       " '737',\n",
       " '1008',\n",
       " '780',\n",
       " '578',\n",
       " '604',\n",
       " '235',\n",
       " '601',\n",
       " '1445',\n",
       " '1296',\n",
       " '539',\n",
       " '161',\n",
       " '385',\n",
       " '330',\n",
       " '1463',\n",
       " '818',\n",
       " '52',\n",
       " '456',\n",
       " '1319',\n",
       " '716',\n",
       " '857',\n",
       " '842',\n",
       " '739',\n",
       " '974',\n",
       " '1195',\n",
       " '481',\n",
       " '909',\n",
       " '1253',\n",
       " '1287',\n",
       " '1209',\n",
       " '154',\n",
       " '1000',\n",
       " '1300',\n",
       " '1247',\n",
       " '821',\n",
       " '1205',\n",
       " '308',\n",
       " '1299',\n",
       " '309',\n",
       " '858',\n",
       " '1412',\n",
       " '152',\n",
       " '981',\n",
       " '1270',\n",
       " '1120',\n",
       " '597',\n",
       " '1312',\n",
       " '565',\n",
       " '747',\n",
       " '1132',\n",
       " '243',\n",
       " '685',\n",
       " '1184',\n",
       " '37',\n",
       " '1317',\n",
       " '820',\n",
       " '793',\n",
       " '1490',\n",
       " '809',\n",
       " '252',\n",
       " '1314',\n",
       " '1177',\n",
       " '1035',\n",
       " '815',\n",
       " '791',\n",
       " '92',\n",
       " '416',\n",
       " '938',\n",
       " '240',\n",
       " '1336',\n",
       " '51',\n",
       " '337',\n",
       " '710',\n",
       " '1386',\n",
       " '776',\n",
       " '1309',\n",
       " '404',\n",
       " '1453',\n",
       " '1196',\n",
       " '848',\n",
       " '1169',\n",
       " '808',\n",
       " '233',\n",
       " '195',\n",
       " '996',\n",
       " '1254',\n",
       " '1097',\n",
       " '1269',\n",
       " '568',\n",
       " '1049',\n",
       " '817',\n",
       " '31',\n",
       " '978',\n",
       " '239',\n",
       " '1235',\n",
       " '1089',\n",
       " '683',\n",
       " '190',\n",
       " '49',\n",
       " '998',\n",
       " '408',\n",
       " '1438',\n",
       " '1206',\n",
       " '1307',\n",
       " '407',\n",
       " '907',\n",
       " '1043',\n",
       " '1315',\n",
       " '653',\n",
       " '732',\n",
       " '1021',\n",
       " '214',\n",
       " '1456',\n",
       " '1122',\n",
       " '617',\n",
       " '1256',\n",
       " '1198',\n",
       " '688',\n",
       " '1320',\n",
       " '215',\n",
       " '1127',\n",
       " '835',\n",
       " '1292',\n",
       " '250',\n",
       " '997',\n",
       " '1181',\n",
       " '910',\n",
       " '474',\n",
       " '264',\n",
       " '1193',\n",
       " '29',\n",
       " '1149',\n",
       " '1444',\n",
       " '1189',\n",
       " '1486',\n",
       " '222',\n",
       " '912',\n",
       " '1331',\n",
       " '431',\n",
       " '1260',\n",
       " '1220',\n",
       " '22',\n",
       " '943',\n",
       " '1468',\n",
       " '587',\n",
       " '248',\n",
       " '504',\n",
       " '67',\n",
       " '1291',\n",
       " '699',\n",
       " '220',\n",
       " '1283',\n",
       " '1433',\n",
       " '1426',\n",
       " '376',\n",
       " '196',\n",
       " '338',\n",
       " '445',\n",
       " '387',\n",
       " '928',\n",
       " '116',\n",
       " '317',\n",
       " '948',\n",
       " '586',\n",
       " '229',\n",
       " '66',\n",
       " '1077',\n",
       " '503',\n",
       " '155',\n",
       " '903',\n",
       " '773',\n",
       " '197',\n",
       " '637',\n",
       " '860',\n",
       " '172',\n",
       " '635',\n",
       " '541',\n",
       " '1366',\n",
       " '70',\n",
       " '800',\n",
       " '888',\n",
       " '1105',\n",
       " '1448',\n",
       " '241',\n",
       " '1384',\n",
       " '454',\n",
       " '536',\n",
       " '1316',\n",
       " '803',\n",
       " '750',\n",
       " '1009',\n",
       " '580',\n",
       " '540',\n",
       " '649',\n",
       " '918',\n",
       " '723',\n",
       " '985',\n",
       " '924',\n",
       " '755',\n",
       " '1382',\n",
       " '1323',\n",
       " '145',\n",
       " '27',\n",
       " '570',\n",
       " '891',\n",
       " '542',\n",
       " '1275',\n",
       " '1170',\n",
       " '1064',\n",
       " '1327',\n",
       " '114',\n",
       " '175',\n",
       " '856',\n",
       " '844',\n",
       " '576',\n",
       " '26',\n",
       " '96',\n",
       " '851',\n",
       " '841',\n",
       " '511',\n",
       " '775',\n",
       " '490',\n",
       " '847',\n",
       " '555',\n",
       " '471',\n",
       " '1119',\n",
       " '678',\n",
       " '819',\n",
       " '444',\n",
       " '859',\n",
       " '502',\n",
       " '550',\n",
       " '1326',\n",
       " '979',\n",
       " '655',\n",
       " '1004',\n",
       " '830',\n",
       " '543',\n",
       " '520',\n",
       " '1301',\n",
       " '185',\n",
       " '414',\n",
       " '1082',\n",
       " '1302',\n",
       " '547',\n",
       " '559',\n",
       " '1227',\n",
       " '181',\n",
       " '437',\n",
       " '1361',\n",
       " '1274',\n",
       " '76',\n",
       " '1368',\n",
       " '905',\n",
       " '77',\n",
       " '297',\n",
       " '627',\n",
       " '483',\n",
       " '510',\n",
       " '599',\n",
       " '1288',\n",
       " '1333',\n",
       " '473',\n",
       " '816',\n",
       " '1062',\n",
       " '523',\n",
       " '900',\n",
       " '519',\n",
       " '1435',\n",
       " '976',\n",
       " '487',\n",
       " '1458',\n",
       " '877',\n",
       " '826',\n",
       " '434',\n",
       " '415',\n",
       " '236',\n",
       " '884',\n",
       " '569',\n",
       " '1226',\n",
       " '861',\n",
       " '911',\n",
       " '548',\n",
       " '139',\n",
       " '212',\n",
       " '765',\n",
       " '368',\n",
       " '72',\n",
       " '1250',\n",
       " '1191',\n",
       " '1410',\n",
       " '922',\n",
       " '41',\n",
       " '1447',\n",
       " '119',\n",
       " '742',\n",
       " '920',\n",
       " '1030',\n",
       " '876',\n",
       " '482',\n",
       " '394',\n",
       " '664',\n",
       " '1121',\n",
       " '589',\n",
       " '1437',\n",
       " '509',\n",
       " '532',\n",
       " '1211',\n",
       " '1318',\n",
       " '427',\n",
       " '279',\n",
       " '117',\n",
       " '1430',\n",
       " '621',\n",
       " '602',\n",
       " '432',\n",
       " '1144',\n",
       " '797',\n",
       " '267',\n",
       " '1222',\n",
       " '917',\n",
       " '1383',\n",
       " '512',\n",
       " '1237',\n",
       " '829',\n",
       " '1072',\n",
       " '633',\n",
       " '409',\n",
       " '1466',\n",
       " '370',\n",
       " '1392',\n",
       " '1131',\n",
       " '438',\n",
       " '257',\n",
       " '1341',\n",
       " '854',\n",
       " '867',\n",
       " '1348',\n",
       " '718',\n",
       " '1282',\n",
       " '794',\n",
       " '764',\n",
       " '1446',\n",
       " '1230',\n",
       " '1034',\n",
       " '583',\n",
       " '646',\n",
       " '1407',\n",
       " '730',\n",
       " '1428',\n",
       " '1357',\n",
       " '466',\n",
       " '1025',\n",
       " '144',\n",
       " '945',\n",
       " '1297',\n",
       " '1285',\n",
       " '1203',\n",
       " '1003',\n",
       " '885',\n",
       " '57',\n",
       " '1385',\n",
       " '1112',\n",
       " '11',\n",
       " '443',\n",
       " '731',\n",
       " '1304',\n",
       " '1305',\n",
       " '1334',\n",
       " '904',\n",
       " '1047',\n",
       " '660',\n",
       " '69',\n",
       " '607',\n",
       " '1010',\n",
       " '1024',\n",
       " '899',\n",
       " '895',\n",
       " '2',\n",
       " '326',\n",
       " '342',\n",
       " '1460',\n",
       " '1372',\n",
       " '149',\n",
       " '375',\n",
       " '148',\n",
       " '428',\n",
       " '1431',\n",
       " '137',\n",
       " '1279',\n",
       " '925',\n",
       " '1413',\n",
       " '1176',\n",
       " '230',\n",
       " '623',\n",
       " '397',\n",
       " '129',\n",
       " '450',\n",
       " '746',\n",
       " '1391',\n",
       " '1258',\n",
       " '1324',\n",
       " '79',\n",
       " '238',\n",
       " '1409',\n",
       " '1174',\n",
       " '169',\n",
       " '869',\n",
       " '759',\n",
       " '224',\n",
       " '113',\n",
       " '778',\n",
       " '146',\n",
       " '574',\n",
       " '260',\n",
       " '381',\n",
       " '112',\n",
       " '1339',\n",
       " '1190',\n",
       " '893',\n",
       " '1052',\n",
       " '1364',\n",
       " '1243',\n",
       " '203',\n",
       " '916',\n",
       " '156',\n",
       " '1417',\n",
       " '807',\n",
       " '1244',\n",
       " '182',\n",
       " '1135',\n",
       " '111',\n",
       " '880',\n",
       " '1046',\n",
       " '921',\n",
       " '774',\n",
       " '363',\n",
       " '331',\n",
       " '258',\n",
       " '254',\n",
       " '932',\n",
       " '713',\n",
       " '613',\n",
       " '840',\n",
       " '1434',\n",
       " '1374',\n",
       " '1298',\n",
       " '1397',\n",
       " '98',\n",
       " '625',\n",
       " '500',\n",
       " '105',\n",
       " '1231',\n",
       " '506',\n",
       " '151',\n",
       " '906',\n",
       " '451',\n",
       " '88',\n",
       " '1026',\n",
       " '741',\n",
       " '1379',\n",
       " '1133',\n",
       " '372',\n",
       " '1185',\n",
       " '1402',\n",
       " '468',\n",
       " '306',\n",
       " '498',\n",
       " '558',\n",
       " '836',\n",
       " '1464',\n",
       " '1246',\n",
       " '957',\n",
       " '242',\n",
       " '1115',\n",
       " '1161\\n']"
      ]
     },
     "execution_count": 46,
     "metadata": {},
     "output_type": "execute_result"
    }
   ],
   "source": [
    "images_ix"
   ]
  },
  {
   "cell_type": "code",
   "execution_count": 47,
   "metadata": {},
   "outputs": [
    {
     "data": {
      "text/plain": [
       "<matplotlib.image.AxesImage at 0x7ff16eac0198>"
      ]
     },
     "execution_count": 47,
     "metadata": {},
     "output_type": "execute_result"
    },
    {
     "data": {
      "image/png": "[encoded data removed]",
      "text/plain": [
       "<Figure size 432x288 with 1 Axes>"
      ]
     },
     "metadata": {
      "needs_background": "light"
     },
     "output_type": "display_data"
    }
   ],
   "source": [
    "plt.imshow(clean[1208].reshape(28, 28), cmap='gray')"
   ]
  },
  {
   "cell_type": "code",
   "execution_count": 62,
   "metadata": {},
   "outputs": [],
   "source": [
    "fgm = np.load('../ICLR/data/np_mnist_fgm_cnn_keras.npy') "
   ]
  },
  {
   "cell_type": "code",
   "execution_count": 64,
   "metadata": {
    "scrolled": false
   },
   "outputs": [
    {
     "data": {
      "image/png": "[encoded data removed]",
      "text/plain": [
       "<Figure size 144x144 with 1 Axes>"
      ]
     },
     "metadata": {
      "needs_background": "light"
     },
     "output_type": "display_data"
    },
    {
     "data": {
      "image/png": "[encoded data removed]",
      "text/plain": [
       "<Figure size 432x288 with 1 Axes>"
      ]
     },
     "metadata": {
      "needs_background": "light"
     },
     "output_type": "display_data"
    },
    {
     "data": {
      "image/png": "[encoded data removed]",
      "text/plain": [
       "<Figure size 432x288 with 1 Axes>"
      ]
     },
     "metadata": {
      "needs_background": "light"
     },
     "output_type": "display_data"
    },
    {
     "data": {
      "image/png": "[encoded data removed]",
      "text/plain": [
       "<Figure size 432x288 with 1 Axes>"
      ]
     },
     "metadata": {
      "needs_background": "light"
     },
     "output_type": "display_data"
    },
    {
     "data": {
      "image/png": "[encoded data removed]",
      "text/plain": [
       "<Figure size 432x288 with 1 Axes>"
      ]
     },
     "metadata": {
      "needs_background": "light"
     },
     "output_type": "display_data"
    },
    {
     "data": {
      "image/png": "[encoded data removed]",
      "text/plain": [
       "<Figure size 432x288 with 1 Axes>"
      ]
     },
     "metadata": {
      "needs_background": "light"
     },
     "output_type": "display_data"
    },
    {
     "data": {
      "image/png": "[encoded data removed]",
      "text/plain": [
       "<Figure size 432x288 with 1 Axes>"
      ]
     },
     "metadata": {
      "needs_background": "light"
     },
     "output_type": "display_data"
    },
    {
     "data": {
      "image/png": "[encoded data removed]",
      "text/plain": [
       "<Figure size 432x288 with 1 Axes>"
      ]
     },
     "metadata": {
      "needs_background": "light"
     },
     "output_type": "display_data"
    },
    {
     "data": {
      "image/png": "[encoded data removed]",
      "text/plain": [
       "<Figure size 432x288 with 1 Axes>"
      ]
     },
     "metadata": {
      "needs_background": "light"
     },
     "output_type": "display_data"
    },
    {
     "data": {
      "image/png": "[encoded data removed]",
      "text/plain": [
       "<Figure size 432x288 with 1 Axes>"
      ]
     },
     "metadata": {
      "needs_background": "light"
     },
     "output_type": "display_data"
    },
    {
     "data": {
      "image/png": "[encoded data removed]",
      "text/plain": [
       "<Figure size 432x288 with 1 Axes>"
      ]
     },
     "metadata": {
      "needs_background": "light"
     },
     "output_type": "display_data"
    },
    {
     "data": {
      "image/png": "[encoded data removed]",
      "text/plain": [
       "<Figure size 432x288 with 1 Axes>"
      ]
     },
     "metadata": {
      "needs_background": "light"
     },
     "output_type": "display_data"
    },
    {
     "data": {
      "image/png": "[encoded data removed]",
      "text/plain": [
       "<Figure size 432x288 with 1 Axes>"
      ]
     },
     "metadata": {
      "needs_background": "light"
     },
     "output_type": "display_data"
    },
    {
     "data": {
      "image/png": "[encoded data removed]",
      "text/plain": [
       "<Figure size 432x288 with 1 Axes>"
      ]
     },
     "metadata": {
      "needs_background": "light"
     },
     "output_type": "display_data"
    },
    {
     "data": {
      "image/png": "[encoded data removed]",
      "text/plain": [
       "<Figure size 432x288 with 1 Axes>"
      ]
     },
     "metadata": {
      "needs_background": "light"
     },
     "output_type": "display_data"
    },
    {
     "data": {
      "image/png": "[encoded data removed]",
      "text/plain": [
       "<Figure size 432x288 with 1 Axes>"
      ]
     },
     "metadata": {
      "needs_background": "light"
     },
     "output_type": "display_data"
    },
    {
     "data": {
      "image/png": "[encoded data removed]",
      "text/plain": [
       "<Figure size 432x288 with 1 Axes>"
      ]
     },
     "metadata": {
      "needs_background": "light"
     },
     "output_type": "display_data"
    },
    {
     "ename": "IndexError",
     "evalue": "index 17 is out of bounds for axis 0 with size 17",
     "output_type": "error",
     "traceback": [
      "\u001b[0;31m---------------------------------------------------------------------------\u001b[0m",
      "\u001b[0;31mIndexError\u001b[0m                                Traceback (most recent call last)",
      "\u001b[0;32m<ipython-input-64-c9749ba5bdeb>\u001b[0m in \u001b[0;36m<module>\u001b[0;34m\u001b[0m\n\u001b[1;32m      2\u001b[0m \u001b[0mplt\u001b[0m\u001b[0;34m.\u001b[0m\u001b[0mfigure\u001b[0m\u001b[0;34m(\u001b[0m\u001b[0mfigsize\u001b[0m\u001b[0;34m=\u001b[0m\u001b[0;34m(\u001b[0m\u001b[0;36m2\u001b[0m\u001b[0;34m,\u001b[0m \u001b[0;36m2\u001b[0m\u001b[0;34m)\u001b[0m\u001b[0;34m)\u001b[0m\u001b[0;34m\u001b[0m\u001b[0m\n\u001b[1;32m      3\u001b[0m \u001b[0;32mfor\u001b[0m \u001b[0mi\u001b[0m \u001b[0;32min\u001b[0m \u001b[0mrange\u001b[0m\u001b[0;34m(\u001b[0m\u001b[0;36m30\u001b[0m\u001b[0;34m)\u001b[0m\u001b[0;34m:\u001b[0m\u001b[0;34m\u001b[0m\u001b[0m\n\u001b[0;32m----> 4\u001b[0;31m     \u001b[0mplt\u001b[0m\u001b[0;34m.\u001b[0m\u001b[0mimshow\u001b[0m\u001b[0;34m(\u001b[0m\u001b[0mfgm\u001b[0m\u001b[0;34m[\u001b[0m\u001b[0mi\u001b[0m\u001b[0;34m]\u001b[0m\u001b[0;34m.\u001b[0m\u001b[0mreshape\u001b[0m\u001b[0;34m(\u001b[0m\u001b[0;36m28\u001b[0m\u001b[0;34m,\u001b[0m \u001b[0;36m28\u001b[0m\u001b[0;34m)\u001b[0m\u001b[0;34m,\u001b[0m \u001b[0mcmap\u001b[0m\u001b[0;34m=\u001b[0m\u001b[0;34m'gray'\u001b[0m\u001b[0;34m)\u001b[0m\u001b[0;34m\u001b[0m\u001b[0m\n\u001b[0m\u001b[1;32m      5\u001b[0m     \u001b[0mplt\u001b[0m\u001b[0;34m.\u001b[0m\u001b[0mshow\u001b[0m\u001b[0;34m(\u001b[0m\u001b[0;34m)\u001b[0m\u001b[0;34m\u001b[0m\u001b[0m\n",
      "\u001b[0;31mIndexError\u001b[0m: index 17 is out of bounds for axis 0 with size 17"
     ]
    }
   ],
   "source": [
    "\n",
    "plt.figure(figsize=(2, 2))\n",
    "for i in range(30):\n",
    "    plt.imshow(fgm[i].reshape(28, 28), cmap='gray')\n",
    "    plt.show()"
   ]
  },
  {
   "cell_type": "code",
   "execution_count": null,
   "metadata": {},
   "outputs": [],
   "source": [
    "clean[]"
   ]
  },
  {
   "cell_type": "markdown",
   "metadata": {},
   "source": [
    "### Save background, clean and noised input for subset scanning test"
   ]
  },
  {
   "cell_type": "code",
   "execution_count": null,
   "metadata": {},
   "outputs": [],
   "source": [
    "x_test.shape"
   ]
  },
  {
   "cell_type": "code",
   "execution_count": 46,
   "metadata": {},
   "outputs": [],
   "source": [
    "#np.save('../ICLR/data/mnist_bg_7000.npy', x_test[:7000])\n",
    "#np.save('../ICLR/data/mnist_clean_1500.npy', x_test[7000:8500])\n",
    "np.save('../ICLR/data/mnist_other_clean.npy', x_test[8500:])"
   ]
  },
  {
   "cell_type": "code",
   "execution_count": 40,
   "metadata": {},
   "outputs": [],
   "source": [
    "np.save('../ICLR/data/fmnist_class_9.npy', x_test[class_9])"
   ]
  },
  {
   "cell_type": "markdown",
   "metadata": {},
   "source": [
    "### Save only noised images that success on the attack"
   ]
  },
  {
   "cell_type": "code",
   "execution_count": 18,
   "metadata": {},
   "outputs": [
    {
     "name": "stdout",
     "output_type": "stream",
     "text": [
      "**********\n",
      "Adversarial test data (first 1500 images) for DF:\n",
      "Correctly classified: 341\n",
      "Incorrectly classified: 1159\n",
      "(1159, 28, 28, 1)\n"
     ]
    }
   ],
   "source": [
    "for noised, name in zip([x_test_adv_df], ['DF']):\n",
    "    x_test_adv_pred = np.argmax(classifier_model.predict(noised), axis=1)\n",
    "    nb_correct_adv_pred = np.sum(x_test_adv_pred == np.argmax(y_test[8500:], axis=1))\n",
    "    mask_correct = x_test_adv_pred != np.argmax(y_test[8500:], axis=1)\n",
    "    noised_images = noised[mask_correct]\n",
    "    print('*'*10)\n",
    "    print(\"Adversarial test data (first 1500 images) for {}:\".format(name))\n",
    "    print(\"Correctly classified: {}\".format(nb_correct_adv_pred))\n",
    "    print(\"Incorrectly classified: {}\".format(1500 - nb_correct_adv_pred))\n",
    "    np.save('../ICLR/data/np_fmnist_df_cnn_keras.npy', noised_images)\n",
    "    print(noised_images.shape)"
   ]
  },
  {
   "cell_type": "code",
   "execution_count": 25,
   "metadata": {},
   "outputs": [
    {
     "data": {
      "text/plain": [
       "(1414, 28, 28, 1)"
      ]
     },
     "execution_count": 25,
     "metadata": {},
     "output_type": "execute_result"
    }
   ],
   "source": [
    "np.load('../ICLR/data/np_fashion_cw_cnn_keras.npy').shape "
   ]
  }
 ],
 "metadata": {
  "kernelspec": {
   "display_name": "Python 3",
   "language": "python",
   "name": "python3"
  },
  "language_info": {
   "codemirror_mode": {
    "name": "ipython",
    "version": 3
   },
   "file_extension": ".py",
   "mimetype": "text/x-python",
   "name": "python",
   "nbconvert_exporter": "python",
   "pygments_lexer": "ipython3",
   "version": "3.7.4"
  }
 },
 "nbformat": 4,
 "nbformat_minor": 2
}
